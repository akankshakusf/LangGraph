{
  "nbformat": 4,
  "nbformat_minor": 0,
  "metadata": {
    "colab": {
      "provenance": [],
      "authorship_tag": "ABX9TyP/hSLppc7GGgluSNTQy84V",
      "include_colab_link": true
    },
    "kernelspec": {
      "name": "python3",
      "display_name": "Python 3"
    },
    "language_info": {
      "name": "python"
    }
  },
  "cells": [
    {
      "cell_type": "markdown",
      "metadata": {
        "id": "view-in-github",
        "colab_type": "text"
      },
      "source": [
        "<a href=\"https://colab.research.google.com/github/akankshakusf/LangGraph/blob/master/Langraph_Lab_1.ipynb\" target=\"_parent\"><img src=\"https://colab.research.google.com/assets/colab-badge.svg\" alt=\"Open In Colab\"/></a>"
      ]
    },
    {
      "cell_type": "code",
      "execution_count": 23,
      "metadata": {
        "colab": {
          "base_uri": "https://localhost:8080/"
        },
        "id": "3pjLdalukGgq",
        "outputId": "22bda1b8-f1a2-4cef-e457-71e9920c28ee"
      },
      "outputs": [
        {
          "output_type": "stream",
          "name": "stdout",
          "text": [
            "Requirement already satisfied: langgraph in /usr/local/lib/python3.11/dist-packages (0.3.11)\n",
            "Requirement already satisfied: langsmith in /usr/local/lib/python3.11/dist-packages (0.3.13)\n",
            "Requirement already satisfied: langchain-core<0.4,>=0.1 in /usr/local/lib/python3.11/dist-packages (from langgraph) (0.3.44)\n",
            "Requirement already satisfied: langgraph-checkpoint<3.0.0,>=2.0.10 in /usr/local/lib/python3.11/dist-packages (from langgraph) (2.0.20)\n",
            "Requirement already satisfied: langgraph-prebuilt<0.2,>=0.1.1 in /usr/local/lib/python3.11/dist-packages (from langgraph) (0.1.3)\n",
            "Requirement already satisfied: langgraph-sdk<0.2.0,>=0.1.42 in /usr/local/lib/python3.11/dist-packages (from langgraph) (0.1.57)\n",
            "Requirement already satisfied: httpx<1,>=0.23.0 in /usr/local/lib/python3.11/dist-packages (from langsmith) (0.28.1)\n",
            "Requirement already satisfied: orjson<4.0.0,>=3.9.14 in /usr/local/lib/python3.11/dist-packages (from langsmith) (3.10.15)\n",
            "Requirement already satisfied: packaging>=23.2 in /usr/local/lib/python3.11/dist-packages (from langsmith) (24.2)\n",
            "Requirement already satisfied: pydantic<3,>=1 in /usr/local/lib/python3.11/dist-packages (from langsmith) (2.10.6)\n",
            "Requirement already satisfied: requests<3,>=2 in /usr/local/lib/python3.11/dist-packages (from langsmith) (2.32.3)\n",
            "Requirement already satisfied: requests-toolbelt<2.0.0,>=1.0.0 in /usr/local/lib/python3.11/dist-packages (from langsmith) (1.0.0)\n",
            "Requirement already satisfied: zstandard<0.24.0,>=0.23.0 in /usr/local/lib/python3.11/dist-packages (from langsmith) (0.23.0)\n",
            "Requirement already satisfied: anyio in /usr/local/lib/python3.11/dist-packages (from httpx<1,>=0.23.0->langsmith) (3.7.1)\n",
            "Requirement already satisfied: certifi in /usr/local/lib/python3.11/dist-packages (from httpx<1,>=0.23.0->langsmith) (2025.1.31)\n",
            "Requirement already satisfied: httpcore==1.* in /usr/local/lib/python3.11/dist-packages (from httpx<1,>=0.23.0->langsmith) (1.0.7)\n",
            "Requirement already satisfied: idna in /usr/local/lib/python3.11/dist-packages (from httpx<1,>=0.23.0->langsmith) (3.10)\n",
            "Requirement already satisfied: h11<0.15,>=0.13 in /usr/local/lib/python3.11/dist-packages (from httpcore==1.*->httpx<1,>=0.23.0->langsmith) (0.14.0)\n",
            "Requirement already satisfied: tenacity!=8.4.0,<10.0.0,>=8.1.0 in /usr/local/lib/python3.11/dist-packages (from langchain-core<0.4,>=0.1->langgraph) (9.0.0)\n",
            "Requirement already satisfied: jsonpatch<2.0,>=1.33 in /usr/local/lib/python3.11/dist-packages (from langchain-core<0.4,>=0.1->langgraph) (1.33)\n",
            "Requirement already satisfied: PyYAML>=5.3 in /usr/local/lib/python3.11/dist-packages (from langchain-core<0.4,>=0.1->langgraph) (6.0.2)\n",
            "Requirement already satisfied: typing-extensions>=4.7 in /usr/local/lib/python3.11/dist-packages (from langchain-core<0.4,>=0.1->langgraph) (4.12.2)\n",
            "Requirement already satisfied: msgpack<2.0.0,>=1.1.0 in /usr/local/lib/python3.11/dist-packages (from langgraph-checkpoint<3.0.0,>=2.0.10->langgraph) (1.1.0)\n",
            "Requirement already satisfied: annotated-types>=0.6.0 in /usr/local/lib/python3.11/dist-packages (from pydantic<3,>=1->langsmith) (0.7.0)\n",
            "Requirement already satisfied: pydantic-core==2.27.2 in /usr/local/lib/python3.11/dist-packages (from pydantic<3,>=1->langsmith) (2.27.2)\n",
            "Requirement already satisfied: charset-normalizer<4,>=2 in /usr/local/lib/python3.11/dist-packages (from requests<3,>=2->langsmith) (3.4.1)\n",
            "Requirement already satisfied: urllib3<3,>=1.21.1 in /usr/local/lib/python3.11/dist-packages (from requests<3,>=2->langsmith) (2.3.0)\n",
            "Requirement already satisfied: jsonpointer>=1.9 in /usr/local/lib/python3.11/dist-packages (from jsonpatch<2.0,>=1.33->langchain-core<0.4,>=0.1->langgraph) (3.0.0)\n",
            "Requirement already satisfied: sniffio>=1.1 in /usr/local/lib/python3.11/dist-packages (from anyio->httpx<1,>=0.23.0->langsmith) (1.3.1)\n"
          ]
        }
      ],
      "source": [
        "!pip install langgraph langsmith"
      ]
    },
    {
      "cell_type": "code",
      "source": [
        "!pip install langchain langchain_groq langchain_community"
      ],
      "metadata": {
        "colab": {
          "base_uri": "https://localhost:8080/"
        },
        "id": "sB41io4hnSBT",
        "outputId": "3b71fd81-b53b-4447-9988-039474c1a338"
      },
      "execution_count": 17,
      "outputs": [
        {
          "output_type": "stream",
          "name": "stdout",
          "text": [
            "Requirement already satisfied: langchain in /usr/local/lib/python3.11/dist-packages (0.3.20)\n",
            "Requirement already satisfied: langchain_groq in /usr/local/lib/python3.11/dist-packages (0.2.5)\n",
            "Requirement already satisfied: langchain_community in /usr/local/lib/python3.11/dist-packages (0.3.19)\n",
            "Requirement already satisfied: langchain-core<1.0.0,>=0.3.41 in /usr/local/lib/python3.11/dist-packages (from langchain) (0.3.44)\n",
            "Requirement already satisfied: langchain-text-splitters<1.0.0,>=0.3.6 in /usr/local/lib/python3.11/dist-packages (from langchain) (0.3.6)\n",
            "Requirement already satisfied: langsmith<0.4,>=0.1.17 in /usr/local/lib/python3.11/dist-packages (from langchain) (0.3.13)\n",
            "Requirement already satisfied: pydantic<3.0.0,>=2.7.4 in /usr/local/lib/python3.11/dist-packages (from langchain) (2.10.6)\n",
            "Requirement already satisfied: SQLAlchemy<3,>=1.4 in /usr/local/lib/python3.11/dist-packages (from langchain) (2.0.39)\n",
            "Requirement already satisfied: requests<3,>=2 in /usr/local/lib/python3.11/dist-packages (from langchain) (2.32.3)\n",
            "Requirement already satisfied: PyYAML>=5.3 in /usr/local/lib/python3.11/dist-packages (from langchain) (6.0.2)\n",
            "Requirement already satisfied: groq<1,>=0.4.1 in /usr/local/lib/python3.11/dist-packages (from langchain_groq) (0.19.0)\n",
            "Requirement already satisfied: aiohttp<4.0.0,>=3.8.3 in /usr/local/lib/python3.11/dist-packages (from langchain_community) (3.11.13)\n",
            "Requirement already satisfied: tenacity!=8.4.0,<10,>=8.1.0 in /usr/local/lib/python3.11/dist-packages (from langchain_community) (9.0.0)\n",
            "Requirement already satisfied: dataclasses-json<0.7,>=0.5.7 in /usr/local/lib/python3.11/dist-packages (from langchain_community) (0.6.7)\n",
            "Requirement already satisfied: pydantic-settings<3.0.0,>=2.4.0 in /usr/local/lib/python3.11/dist-packages (from langchain_community) (2.8.1)\n",
            "Requirement already satisfied: httpx-sse<1.0.0,>=0.4.0 in /usr/local/lib/python3.11/dist-packages (from langchain_community) (0.4.0)\n",
            "Requirement already satisfied: numpy<3,>=1.26.2 in /usr/local/lib/python3.11/dist-packages (from langchain_community) (1.26.4)\n",
            "Requirement already satisfied: aiohappyeyeballs>=2.3.0 in /usr/local/lib/python3.11/dist-packages (from aiohttp<4.0.0,>=3.8.3->langchain_community) (2.6.1)\n",
            "Requirement already satisfied: aiosignal>=1.1.2 in /usr/local/lib/python3.11/dist-packages (from aiohttp<4.0.0,>=3.8.3->langchain_community) (1.3.2)\n",
            "Requirement already satisfied: attrs>=17.3.0 in /usr/local/lib/python3.11/dist-packages (from aiohttp<4.0.0,>=3.8.3->langchain_community) (25.2.0)\n",
            "Requirement already satisfied: frozenlist>=1.1.1 in /usr/local/lib/python3.11/dist-packages (from aiohttp<4.0.0,>=3.8.3->langchain_community) (1.5.0)\n",
            "Requirement already satisfied: multidict<7.0,>=4.5 in /usr/local/lib/python3.11/dist-packages (from aiohttp<4.0.0,>=3.8.3->langchain_community) (6.1.0)\n",
            "Requirement already satisfied: propcache>=0.2.0 in /usr/local/lib/python3.11/dist-packages (from aiohttp<4.0.0,>=3.8.3->langchain_community) (0.3.0)\n",
            "Requirement already satisfied: yarl<2.0,>=1.17.0 in /usr/local/lib/python3.11/dist-packages (from aiohttp<4.0.0,>=3.8.3->langchain_community) (1.18.3)\n",
            "Requirement already satisfied: marshmallow<4.0.0,>=3.18.0 in /usr/local/lib/python3.11/dist-packages (from dataclasses-json<0.7,>=0.5.7->langchain_community) (3.26.1)\n",
            "Requirement already satisfied: typing-inspect<1,>=0.4.0 in /usr/local/lib/python3.11/dist-packages (from dataclasses-json<0.7,>=0.5.7->langchain_community) (0.9.0)\n",
            "Requirement already satisfied: anyio<5,>=3.5.0 in /usr/local/lib/python3.11/dist-packages (from groq<1,>=0.4.1->langchain_groq) (3.7.1)\n",
            "Requirement already satisfied: distro<2,>=1.7.0 in /usr/local/lib/python3.11/dist-packages (from groq<1,>=0.4.1->langchain_groq) (1.9.0)\n",
            "Requirement already satisfied: httpx<1,>=0.23.0 in /usr/local/lib/python3.11/dist-packages (from groq<1,>=0.4.1->langchain_groq) (0.28.1)\n",
            "Requirement already satisfied: sniffio in /usr/local/lib/python3.11/dist-packages (from groq<1,>=0.4.1->langchain_groq) (1.3.1)\n",
            "Requirement already satisfied: typing-extensions<5,>=4.10 in /usr/local/lib/python3.11/dist-packages (from groq<1,>=0.4.1->langchain_groq) (4.12.2)\n",
            "Requirement already satisfied: jsonpatch<2.0,>=1.33 in /usr/local/lib/python3.11/dist-packages (from langchain-core<1.0.0,>=0.3.41->langchain) (1.33)\n",
            "Requirement already satisfied: packaging<25,>=23.2 in /usr/local/lib/python3.11/dist-packages (from langchain-core<1.0.0,>=0.3.41->langchain) (24.2)\n",
            "Requirement already satisfied: orjson<4.0.0,>=3.9.14 in /usr/local/lib/python3.11/dist-packages (from langsmith<0.4,>=0.1.17->langchain) (3.10.15)\n",
            "Requirement already satisfied: requests-toolbelt<2.0.0,>=1.0.0 in /usr/local/lib/python3.11/dist-packages (from langsmith<0.4,>=0.1.17->langchain) (1.0.0)\n",
            "Requirement already satisfied: zstandard<0.24.0,>=0.23.0 in /usr/local/lib/python3.11/dist-packages (from langsmith<0.4,>=0.1.17->langchain) (0.23.0)\n",
            "Requirement already satisfied: annotated-types>=0.6.0 in /usr/local/lib/python3.11/dist-packages (from pydantic<3.0.0,>=2.7.4->langchain) (0.7.0)\n",
            "Requirement already satisfied: pydantic-core==2.27.2 in /usr/local/lib/python3.11/dist-packages (from pydantic<3.0.0,>=2.7.4->langchain) (2.27.2)\n",
            "Requirement already satisfied: python-dotenv>=0.21.0 in /usr/local/lib/python3.11/dist-packages (from pydantic-settings<3.0.0,>=2.4.0->langchain_community) (1.0.1)\n",
            "Requirement already satisfied: charset-normalizer<4,>=2 in /usr/local/lib/python3.11/dist-packages (from requests<3,>=2->langchain) (3.4.1)\n",
            "Requirement already satisfied: idna<4,>=2.5 in /usr/local/lib/python3.11/dist-packages (from requests<3,>=2->langchain) (3.10)\n",
            "Requirement already satisfied: urllib3<3,>=1.21.1 in /usr/local/lib/python3.11/dist-packages (from requests<3,>=2->langchain) (2.3.0)\n",
            "Requirement already satisfied: certifi>=2017.4.17 in /usr/local/lib/python3.11/dist-packages (from requests<3,>=2->langchain) (2025.1.31)\n",
            "Requirement already satisfied: greenlet!=0.4.17 in /usr/local/lib/python3.11/dist-packages (from SQLAlchemy<3,>=1.4->langchain) (3.1.1)\n",
            "Requirement already satisfied: httpcore==1.* in /usr/local/lib/python3.11/dist-packages (from httpx<1,>=0.23.0->groq<1,>=0.4.1->langchain_groq) (1.0.7)\n",
            "Requirement already satisfied: h11<0.15,>=0.13 in /usr/local/lib/python3.11/dist-packages (from httpcore==1.*->httpx<1,>=0.23.0->groq<1,>=0.4.1->langchain_groq) (0.14.0)\n",
            "Requirement already satisfied: jsonpointer>=1.9 in /usr/local/lib/python3.11/dist-packages (from jsonpatch<2.0,>=1.33->langchain-core<1.0.0,>=0.3.41->langchain) (3.0.0)\n",
            "Requirement already satisfied: mypy-extensions>=0.3.0 in /usr/local/lib/python3.11/dist-packages (from typing-inspect<1,>=0.4.0->dataclasses-json<0.7,>=0.5.7->langchain_community) (1.0.0)\n"
          ]
        }
      ]
    },
    {
      "cell_type": "code",
      "source": [
        "#let import all the keys\n",
        "from google.colab import userdata\n",
        "\n",
        "groq_api_key=userdata.get(\"GROQ_API_KEY\")\n",
        "langsmith=userdata.get(\"LANGSMITH_API_KEY\")"
      ],
      "metadata": {
        "id": "1HAM_CNZnR-v"
      },
      "execution_count": 18,
      "outputs": []
    },
    {
      "cell_type": "code",
      "source": [
        "#initialize environment variables\n",
        "import os\n",
        "os.environ[\"LANGSMITH_API_KEY\"]=langsmith\n",
        "os.environ[\"LANGCHAIN_TRACKING_V2\"]=\"true\"\n",
        "os.environ[\"LANGSMITH_PROJECT\"]=\"HandsOnLangraph\""
      ],
      "metadata": {
        "id": "EA34Z0TgqY7o"
      },
      "execution_count": 19,
      "outputs": []
    },
    {
      "cell_type": "code",
      "source": [
        "#import the llm model\n",
        "from langchain_groq import ChatGroq"
      ],
      "metadata": {
        "id": "oJMoSM26nR7z"
      },
      "execution_count": 20,
      "outputs": []
    },
    {
      "cell_type": "code",
      "source": [
        "#instantiate the model\n",
        "llm=ChatGroq(model_name=\"gemma2-9b-it\", groq_api_key=groq_api_key)\n",
        "llm"
      ],
      "metadata": {
        "colab": {
          "base_uri": "https://localhost:8080/"
        },
        "id": "nJmVDAsOnR4_",
        "outputId": "5234da76-c1b5-4d27-995d-1ea182574e04"
      },
      "execution_count": 21,
      "outputs": [
        {
          "output_type": "execute_result",
          "data": {
            "text/plain": [
              "ChatGroq(client=<groq.resources.chat.completions.Completions object at 0x7820f0e78350>, async_client=<groq.resources.chat.completions.AsyncCompletions object at 0x7820f0e70290>, model_name='gemma2-9b-it', model_kwargs={}, groq_api_key=SecretStr('**********'))"
            ]
          },
          "metadata": {},
          "execution_count": 21
        }
      ]
    },
    {
      "cell_type": "markdown",
      "source": [
        "## Start Building ChatBot with Langraph"
      ],
      "metadata": {
        "id": "kLOrYQfTsRy7"
      }
    },
    {
      "cell_type": "code",
      "source": [
        "# Importing libraries for chatbot implementation\n",
        "from typing import Annotated  # Helps in adding extra type hints for better code understanding\n",
        "from typing_extensions import TypedDict  # Allows creating structured dictionaries with specific data types\n",
        "\n",
        "# Importing tools for managing chatbot state\n",
        "from langgraph.graph import StateGraph,START,END\n",
        "\n",
        "# Importing a function to manage chat messages\n",
        "from langgraph.graph.message import add_messages"
      ],
      "metadata": {
        "id": "QBnTvLeRnR2k"
      },
      "execution_count": 22,
      "outputs": []
    },
    {
      "cell_type": "code",
      "source": [
        "class State(TypedDict):\n",
        "  #message that have the type \"list\". The \"add_messages\" function\n",
        "  # in the annotation define how this is state key should be upadated\n",
        "  # in this case it appends messages to the list  rather than overwriting them\n",
        "  messages:Annotated[list,add_messages]\n",
        "\n",
        "#initialize StateGraph\n",
        "graph_builder=StateGraph(State)\n",
        "graph_builder"
      ],
      "metadata": {
        "colab": {
          "base_uri": "https://localhost:8080/"
        },
        "id": "3SV5s4dhsxUf",
        "outputId": "07ea5804-fc65-4b83-a836-e12692a04ded"
      },
      "execution_count": 25,
      "outputs": [
        {
          "output_type": "execute_result",
          "data": {
            "text/plain": [
              "<langgraph.graph.state.StateGraph at 0x7820f0a09e10>"
            ]
          },
          "metadata": {},
          "execution_count": 25
        }
      ]
    },
    {
      "cell_type": "code",
      "source": [
        "def chatbot(state=State):\n",
        "  return {\"messages\":llm.invoke(state['messages'])}"
      ],
      "metadata": {
        "id": "HOG8GpAKnR0I"
      },
      "execution_count": 26,
      "outputs": []
    },
    {
      "cell_type": "markdown",
      "source": [
        "# lets add the chatbot node\n",
        "![image.png](data:image/png;base64,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)"
      ],
      "metadata": {
        "id": "z5j9rCTL_8Sv"
      }
    },
    {
      "cell_type": "code",
      "source": [
        "graph_builder.add_node(\"chatbot\", chatbot)"
      ],
      "metadata": {
        "colab": {
          "base_uri": "https://localhost:8080/"
        },
        "id": "F2yu49rwnRxP",
        "outputId": "0da851b8-630b-4373-e9bc-05f0f5490dd0"
      },
      "execution_count": 27,
      "outputs": [
        {
          "output_type": "execute_result",
          "data": {
            "text/plain": [
              "<langgraph.graph.state.StateGraph at 0x7820f0a09e10>"
            ]
          },
          "metadata": {},
          "execution_count": 27
        }
      ]
    },
    {
      "cell_type": "code",
      "source": [
        "graph_builder"
      ],
      "metadata": {
        "colab": {
          "base_uri": "https://localhost:8080/"
        },
        "id": "XPi6n2lnnRui",
        "outputId": "b24def52-ab00-4241-ee02-64c83ed3551f"
      },
      "execution_count": 28,
      "outputs": [
        {
          "output_type": "execute_result",
          "data": {
            "text/plain": [
              "<langgraph.graph.state.StateGraph at 0x7820f0a09e10>"
            ]
          },
          "metadata": {},
          "execution_count": 28
        }
      ]
    },
    {
      "cell_type": "markdown",
      "source": [
        "# lets add the start and  end edge nodes shown in above diagram"
      ],
      "metadata": {
        "id": "VTzZtQhj_3wx"
      }
    },
    {
      "cell_type": "code",
      "source": [
        "graph_builder.add_edge(START,\"chatbot\")\n",
        "graph_builder.add_edge(\"chatbot\",END)"
      ],
      "metadata": {
        "colab": {
          "base_uri": "https://localhost:8080/"
        },
        "id": "Qg6NOCFhnRrt",
        "outputId": "67185578-fd1f-4df8-c06d-9c9d69c2e27e"
      },
      "execution_count": 31,
      "outputs": [
        {
          "output_type": "execute_result",
          "data": {
            "text/plain": [
              "<langgraph.graph.state.StateGraph at 0x7820f0a09e10>"
            ]
          },
          "metadata": {},
          "execution_count": 31
        }
      ]
    },
    {
      "cell_type": "code",
      "source": [
        "graph = graph_builder.compile()"
      ],
      "metadata": {
        "id": "nd5hSgC9nRoq"
      },
      "execution_count": 59,
      "outputs": []
    },
    {
      "cell_type": "markdown",
      "source": [
        "i got this piece of code from the documenatation\n",
        "https://langchain-ai.github.io/langgraph/tutorials/introduction/#part-1-build-a-basic-chatbot"
      ],
      "metadata": {
        "id": "ggpET6gDBmaA"
      }
    },
    {
      "cell_type": "code",
      "source": [
        "#You can visualize the graph using the get_graph method and one of the \"draw\" methods,\n",
        "#like draw_ascii or draw_png. The draw methods each require additional dependencies.\n",
        "from IPython.display import Image, display\n",
        "\n",
        "try:\n",
        "    display(Image(graph.get_graph().draw_mermaid_png()))\n",
        "except Exception:\n",
        "    # This requires some extra dependencies and is optional\n",
        "    pass\n",
        "\n"
      ],
      "metadata": {
        "colab": {
          "base_uri": "https://localhost:8080/",
          "height": 251
        },
        "id": "s9bCqBuhnRj6",
        "outputId": "d2ef84bb-6910-4050-cc40-65a58c61e68e"
      },
      "execution_count": 60,
      "outputs": [
        {
          "output_type": "display_data",
          "data": {
            "image/png": "[encoded data removed]",
            "text/plain": [
              "<IPython.core.display.Image object>"
            ]
          },
          "metadata": {}
        }
      ]
    },
    {
      "cell_type": "code",
      "source": [
        "# Keep the chatbot running continuously until the user decides to quit\n",
        "while True:\n",
        "    # Ask the user for input (simulating a chat)\n",
        "    user_input = input(\"User: \")\n",
        "\n",
        "    # Check if the user wants to exit by typing \"quit\" or \"q\" (case insensitive)\n",
        "    if user_input.lower() in [\"quit\", \"q\"]:\n",
        "        print(\"Good Bye\")  # Say goodbye\n",
        "        break  # Exit the loop and stop the chatbot\n",
        "\n",
        "    # Process the user's message through the chatbot's state graph\n",
        "    for event in graph.stream({'messages': (\"user\", user_input)}):\n",
        "        print(event.values())  # Print raw chatbot response data (for debugging)\n",
        "\n",
        "        # Extract and display the chatbot’s response\n",
        "        for value in event.values():\n",
        "            print(value['messages'])  # Print the full list of chat messages\n",
        "            print(\"Assistant:\", value['messages'].content)\n"
      ],
      "metadata": {
        "colab": {
          "base_uri": "https://localhost:8080/"
        },
        "id": "oVfag5rbnRb2",
        "outputId": "cf84135d-5127-41e2-b2f0-d03234cf8653"
      },
      "execution_count": 64,
      "outputs": [
        {
          "output_type": "stream",
          "name": "stdout",
          "text": [
            "User: hello\n",
            "dict_values([{'messages': AIMessage(content='Hello! 👋  How can I help you today? 😊\\n', additional_kwargs={}, response_metadata={'token_usage': {'completion_tokens': 15, 'prompt_tokens': 11, 'total_tokens': 26, 'completion_time': 0.027272727, 'prompt_time': 0.001952716, 'queue_time': 0.017550144, 'total_time': 0.029225443}, 'model_name': 'gemma2-9b-it', 'system_fingerprint': 'fp_10c08bf97d', 'finish_reason': 'stop', 'logprobs': None}, id='run-8bbfd9c0-14a2-42c5-82ec-21f1392c534f-0', usage_metadata={'input_tokens': 11, 'output_tokens': 15, 'total_tokens': 26})}])\n",
            "content='Hello! 👋  How can I help you today? 😊\\n' additional_kwargs={} response_metadata={'token_usage': {'completion_tokens': 15, 'prompt_tokens': 11, 'total_tokens': 26, 'completion_time': 0.027272727, 'prompt_time': 0.001952716, 'queue_time': 0.017550144, 'total_time': 0.029225443}, 'model_name': 'gemma2-9b-it', 'system_fingerprint': 'fp_10c08bf97d', 'finish_reason': 'stop', 'logprobs': None} id='run-8bbfd9c0-14a2-42c5-82ec-21f1392c534f-0' usage_metadata={'input_tokens': 11, 'output_tokens': 15, 'total_tokens': 26}\n",
            "Assistant: Hello! 👋  How can I help you today? 😊\n",
            "\n",
            "User: what is generative ai?\n",
            "dict_values([{'messages': AIMessage(content=\"Generative AI is a fascinating branch of artificial intelligence that focuses on creating new content. \\n\\nThink of it like this: instead of simply analyzing existing data, generative AI learns the patterns and structures within that data to produce entirely original outputs. \\n\\nHere's a breakdown:\\n\\n**What it does:**\\n\\n* **Generates text:**  Write stories, poems, articles, dialogue, and even code.\\n* **Creates images:**  Produce paintings, photographs, illustrations, and design assets.\\n* **Composes music:**  Craft melodies, harmonies, and entire musical pieces.\\n* **Designs 3D models:**  Generate objects, characters, and environments for games, movies, and other applications.\\n\\n**How it works:**\\n\\nGenerative AI models, often built using deep learning techniques like neural networks, are trained on massive datasets of existing content. They learn the underlying rules and relationships within that data, allowing them to generate new content that adheres to those learned patterns.\\n\\n**Examples:**\\n\\n* **ChatGPT:** A text-based AI that can hold conversations, answer questions, and generate creative text formats.\\n* **DALL-E 2:** An AI that creates realistic images from textual descriptions.\\n* **Jukebox:** An AI that generates music in various styles.\\n\\n**Potential applications:**\\n\\n* **Content creation:**  Writing assistance, art generation, music composition.\\n* **Education:** Personalized learning experiences, interactive storytelling.\\n* **Entertainment:**  Generating game levels, creating special effects, writing scripts.\\n* **Research:**  Discovering new patterns, accelerating scientific discovery.\\n\\n**Limitations:**\\n\\n* **Bias:** AI models can reflect biases present in the training data.\\n* **Lack of common sense:**  Generative AI often struggles with tasks requiring real-world understanding.\\n* **Ethical concerns:**  Potential for misuse, such as creating deepfakes or spreading misinformation.\\n\\n\\nGenerative AI is a rapidly evolving field with the potential to revolutionize many aspects of our lives. It's important to approach it with both excitement and awareness of its limitations and potential ethical implications.\\n\", additional_kwargs={}, response_metadata={'token_usage': {'completion_tokens': 435, 'prompt_tokens': 14, 'total_tokens': 449, 'completion_time': 0.790909091, 'prompt_time': 0.001999675, 'queue_time': 0.016426614, 'total_time': 0.792908766}, 'model_name': 'gemma2-9b-it', 'system_fingerprint': 'fp_10c08bf97d', 'finish_reason': 'stop', 'logprobs': None}, id='run-6c70421d-33ac-4f37-b224-e98edda458ee-0', usage_metadata={'input_tokens': 14, 'output_tokens': 435, 'total_tokens': 449})}])\n",
            "content=\"Generative AI is a fascinating branch of artificial intelligence that focuses on creating new content. \\n\\nThink of it like this: instead of simply analyzing existing data, generative AI learns the patterns and structures within that data to produce entirely original outputs. \\n\\nHere's a breakdown:\\n\\n**What it does:**\\n\\n* **Generates text:**  Write stories, poems, articles, dialogue, and even code.\\n* **Creates images:**  Produce paintings, photographs, illustrations, and design assets.\\n* **Composes music:**  Craft melodies, harmonies, and entire musical pieces.\\n* **Designs 3D models:**  Generate objects, characters, and environments for games, movies, and other applications.\\n\\n**How it works:**\\n\\nGenerative AI models, often built using deep learning techniques like neural networks, are trained on massive datasets of existing content. They learn the underlying rules and relationships within that data, allowing them to generate new content that adheres to those learned patterns.\\n\\n**Examples:**\\n\\n* **ChatGPT:** A text-based AI that can hold conversations, answer questions, and generate creative text formats.\\n* **DALL-E 2:** An AI that creates realistic images from textual descriptions.\\n* **Jukebox:** An AI that generates music in various styles.\\n\\n**Potential applications:**\\n\\n* **Content creation:**  Writing assistance, art generation, music composition.\\n* **Education:** Personalized learning experiences, interactive storytelling.\\n* **Entertainment:**  Generating game levels, creating special effects, writing scripts.\\n* **Research:**  Discovering new patterns, accelerating scientific discovery.\\n\\n**Limitations:**\\n\\n* **Bias:** AI models can reflect biases present in the training data.\\n* **Lack of common sense:**  Generative AI often struggles with tasks requiring real-world understanding.\\n* **Ethical concerns:**  Potential for misuse, such as creating deepfakes or spreading misinformation.\\n\\n\\nGenerative AI is a rapidly evolving field with the potential to revolutionize many aspects of our lives. It's important to approach it with both excitement and awareness of its limitations and potential ethical implications.\\n\" additional_kwargs={} response_metadata={'token_usage': {'completion_tokens': 435, 'prompt_tokens': 14, 'total_tokens': 449, 'completion_time': 0.790909091, 'prompt_time': 0.001999675, 'queue_time': 0.016426614, 'total_time': 0.792908766}, 'model_name': 'gemma2-9b-it', 'system_fingerprint': 'fp_10c08bf97d', 'finish_reason': 'stop', 'logprobs': None} id='run-6c70421d-33ac-4f37-b224-e98edda458ee-0' usage_metadata={'input_tokens': 14, 'output_tokens': 435, 'total_tokens': 449}\n",
            "Assistant: Generative AI is a fascinating branch of artificial intelligence that focuses on creating new content. \n",
            "\n",
            "Think of it like this: instead of simply analyzing existing data, generative AI learns the patterns and structures within that data to produce entirely original outputs. \n",
            "\n",
            "Here's a breakdown:\n",
            "\n",
            "**What it does:**\n",
            "\n",
            "* **Generates text:**  Write stories, poems, articles, dialogue, and even code.\n",
            "* **Creates images:**  Produce paintings, photographs, illustrations, and design assets.\n",
            "* **Composes music:**  Craft melodies, harmonies, and entire musical pieces.\n",
            "* **Designs 3D models:**  Generate objects, characters, and environments for games, movies, and other applications.\n",
            "\n",
            "**How it works:**\n",
            "\n",
            "Generative AI models, often built using deep learning techniques like neural networks, are trained on massive datasets of existing content. They learn the underlying rules and relationships within that data, allowing them to generate new content that adheres to those learned patterns.\n",
            "\n",
            "**Examples:**\n",
            "\n",
            "* **ChatGPT:** A text-based AI that can hold conversations, answer questions, and generate creative text formats.\n",
            "* **DALL-E 2:** An AI that creates realistic images from textual descriptions.\n",
            "* **Jukebox:** An AI that generates music in various styles.\n",
            "\n",
            "**Potential applications:**\n",
            "\n",
            "* **Content creation:**  Writing assistance, art generation, music composition.\n",
            "* **Education:** Personalized learning experiences, interactive storytelling.\n",
            "* **Entertainment:**  Generating game levels, creating special effects, writing scripts.\n",
            "* **Research:**  Discovering new patterns, accelerating scientific discovery.\n",
            "\n",
            "**Limitations:**\n",
            "\n",
            "* **Bias:** AI models can reflect biases present in the training data.\n",
            "* **Lack of common sense:**  Generative AI often struggles with tasks requiring real-world understanding.\n",
            "* **Ethical concerns:**  Potential for misuse, such as creating deepfakes or spreading misinformation.\n",
            "\n",
            "\n",
            "Generative AI is a rapidly evolving field with the potential to revolutionize many aspects of our lives. It's important to approach it with both excitement and awareness of its limitations and potential ethical implications.\n",
            "\n",
            "User: q\n",
            "Good Bye\n"
          ]
        }
      ]
    },
    {
      "cell_type": "code",
      "source": [],
      "metadata": {
        "id": "GBPDvTEPQUuB"
      },
      "execution_count": null,
      "outputs": []
    }
  ]
}